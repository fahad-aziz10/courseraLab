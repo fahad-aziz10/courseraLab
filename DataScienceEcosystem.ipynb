{
 "cells": [
  {
   "cell_type": "markdown",
   "id": "364309a1-d23d-4ee7-8d1f-931a225fc590",
   "metadata": {},
   "source": [
    "# Data Science Tools and Ecosystem\n"
   ]
  },
  {
   "cell_type": "markdown",
   "id": "88cc42d8-8d2f-4c83-9b12-26d59aec4ff2",
   "metadata": {},
   "source": [
    "In this notebook, Data Science Tools and Ecosystem are summarized."
   ]
  },
  {
   "cell_type": "markdown",
   "id": "23e75287-e4b4-4f36-b71a-e31fc6b15ab6",
   "metadata": {},
   "source": [
    "__Objectives:\n",
    "- Python\n",
    "- Scala\n",
    "- Julia\n",
    "- SQL"
   ]
  },
  {
   "cell_type": "markdown",
   "id": "f66fcc9f-490d-439a-8c7f-3d6e344036a6",
   "metadata": {},
   "source": [
    "Some of the popular languages that Data Scientists use are:\n",
    "1. Python\n",
    "2. R\n",
    "3. Julia\n",
    "4. SQL"
   ]
  },
  {
   "cell_type": "markdown",
   "id": "cff6919b-22da-4d61-83aa-b335f555c4b3",
   "metadata": {
    "tags": []
   },
   "source": [
    "Some of the commonly used libraries used by Data Scientists include:\n",
    "1. Pandas\n",
    "2. Numpy\n",
    "3. TensorFlow\n",
    "4. Pytorch"
   ]
  },
  {
   "cell_type": "markdown",
   "id": "4e762c97-62cf-430d-bc4b-b80c0c4912f4",
   "metadata": {},
   "source": [
    "|Data Science Tools|\n",
    "|-----|\n",
    "|Vs Code|\n",
    "|GitLab|\n",
    "|Google Colab|"
   ]
  },
  {
   "cell_type": "markdown",
   "id": "e64fffc9-c3cb-4e1f-ab0a-ab9fa84883a3",
   "metadata": {},
   "source": [
    "### Below are a few examples of evaluating arithmetic expressions in Python"
   ]
  },
  {
   "cell_type": "code",
   "execution_count": 11,
   "id": "3a77109a-012b-4b96-ac7e-9c65d85f8a7d",
   "metadata": {
    "tags": []
   },
   "outputs": [
    {
     "data": {
      "text/plain": [
       "17"
      ]
     },
     "execution_count": 11,
     "metadata": {},
     "output_type": "execute_result"
    }
   ],
   "source": [
    "# This a simple arithmetic expression to mutiply then add integers\n",
    "(3*4)+5"
   ]
  },
  {
   "cell_type": "code",
   "execution_count": 12,
   "id": "db8963a4-b912-4f46-b084-de75f01432fe",
   "metadata": {
    "tags": []
   },
   "outputs": [
    {
     "data": {
      "text/plain": [
       "3.3333333333333335"
      ]
     },
     "execution_count": 12,
     "metadata": {},
     "output_type": "execute_result"
    }
   ],
   "source": [
    "# This will convert 200 minutes to hours by diving by 60\n",
    "200/60"
   ]
  },
  {
   "cell_type": "markdown",
   "id": "99ac1ffa-aebc-45e3-b283-4fa6c0aeff37",
   "metadata": {},
   "source": [
    "## Author\n",
    "Fahad Aziz Khan"
   ]
  },
  {
   "cell_type": "code",
   "execution_count": null,
   "id": "fcf21389-7fe3-4473-997e-730abfdb5066",
   "metadata": {},
   "outputs": [],
   "source": []
  }
 ],
 "metadata": {
  "kernelspec": {
   "display_name": "Python",
   "language": "python",
   "name": "conda-env-python-py"
  },
  "language_info": {
   "codemirror_mode": {
    "name": "ipython",
    "version": 3
   },
   "file_extension": ".py",
   "mimetype": "text/x-python",
   "name": "python",
   "nbconvert_exporter": "python",
   "pygments_lexer": "ipython3",
   "version": "3.7.12"
  }
 },
 "nbformat": 4,
 "nbformat_minor": 5
}
